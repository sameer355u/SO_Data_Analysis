{
 "cells": [
  {
   "cell_type": "code",
   "execution_count": null,
   "metadata": {},
   "outputs": [],
   "source": [
    "import pandas as pd\n",
    "import numpy as np\n",
    "import seaborn as sns\n",
    "import matplotlib.pyplot as plt"
   ]
  },
  {
   "cell_type": "code",
   "execution_count": null,
   "metadata": {},
   "outputs": [],
   "source": [
    "df = pd.read_csv(\"D:\\Projects\\CSV\\survey_results_public.csv\")  # Read data from a CSV file"
   ]
  },
  {
   "cell_type": "code",
   "execution_count": null,
   "metadata": {},
   "outputs": [],
   "source": [
    "df"
   ]
  },
  {
   "cell_type": "code",
   "execution_count": null,
   "metadata": {},
   "outputs": [],
   "source": [
    "df.dropna()  # Remove rows with missing values\n",
    "df.duplicated()  # Check for duplicate rows\n",
    "df.drop_duplicates()  # Remove duplicate rows\n"
   ]
  },
  {
   "cell_type": "code",
   "execution_count": null,
   "metadata": {},
   "outputs": [],
   "source": [
    "numeric_columns=df.select_dtypes(include=np.number) # type: ignore\n",
    "mean_value=numeric_columns.mean()\n",
    "print(mean_value)\n",
    "df.head()  # Display the first few rows of the DataFrame\n",
    "df.shape  # Get the dimensions of the DataFrame (rows, columns)\n",
    "df.info()  # Display the summary information of the DataFrame\n",
    "df.describe()  # Generate descriptive statistics of the DataFrame\n",
    "df.columns  # Get the column names of the DataFrame\n"
   ]
  },
  {
   "cell_type": "code",
   "execution_count": null,
   "metadata": {},
   "outputs": [],
   "source": [
    "# Create a new column based on existing columns\n",
    "df['TotalYearsCode'] = df['YearsCode'] + df['YearsCodePro']"
   ]
  },
  {
   "cell_type": "code",
   "execution_count": null,
   "metadata": {},
   "outputs": [],
   "source": [
    "# Group data based on a column\n",
    "grouped_data = df.groupby('Country')"
   ]
  },
  {
   "cell_type": "code",
   "execution_count": null,
   "metadata": {},
   "outputs": [],
   "source": [
    "print(grouped_data)"
   ]
  },
  {
   "cell_type": "code",
   "execution_count": null,
   "metadata": {},
   "outputs": [],
   "source": [
    "# Sort DataFrame by values in a column\n",
    "sorted_data = df.sort_values('ConvertedCompYearly', ascending=False)\n"
   ]
  },
  {
   "cell_type": "code",
   "execution_count": null,
   "metadata": {},
   "outputs": [],
   "source": [
    "# Fill missing values with a specified value\n",
    "df['CompTotal'] = df['CompTotal'].fillna(0)"
   ]
  },
  {
   "cell_type": "code",
   "execution_count": null,
   "metadata": {},
   "outputs": [],
   "source": [
    "# Convert 'Age' column to numeric type\n",
    "df['Age'] = pd.to_numeric(df['Age'], errors='coerce')\n",
    "# Perform statistical operations\n",
    "std_dev = df['ConvertedCompYearly'].std()\n",
    "min_value = df['Age'].min()"
   ]
  },
  {
   "cell_type": "code",
   "execution_count": null,
   "metadata": {},
   "outputs": [],
   "source": [
    "# Convert 'CompTotal' and 'YearsCodePro' columns to numeric type\n",
    "df['CompTotal'] = pd.to_numeric(df['CompTotal'], errors='coerce')\n",
    "df['YearsCodePro'] = pd.to_numeric(df['YearsCodePro'], errors='coerce')\n",
    "\n",
    "# Perform arithmetic operations on columns\n",
    "df['TotalComp'] = df['CompTotal'] * df['YearsCodePro']"
   ]
  },
  {
   "cell_type": "code",
   "execution_count": null,
   "metadata": {},
   "outputs": [],
   "source": [
    "# Display the updated DataFrame\n",
    "print(df[['CompTotal', 'YearsCodePro', 'TotalComp']])"
   ]
  },
  {
   "cell_type": "code",
   "execution_count": null,
   "metadata": {},
   "outputs": [],
   "source": [
    "df['TotalComp'].fillna(0, inplace=True)"
   ]
  },
  {
   "cell_type": "code",
   "execution_count": null,
   "metadata": {},
   "outputs": [],
   "source": [
    "print(df[['CompTotal', 'YearsCodePro', 'TotalComp']])"
   ]
  },
  {
   "cell_type": "code",
   "execution_count": null,
   "metadata": {},
   "outputs": [],
   "source": [
    "df = df.rename(columns={'ConvertedCompYearly': 'Salary'})"
   ]
  },
  {
   "cell_type": "code",
   "execution_count": null,
   "metadata": {},
   "outputs": [],
   "source": [
    "df.info()"
   ]
  },
  {
   "cell_type": "code",
   "execution_count": null,
   "metadata": {},
   "outputs": [],
   "source": [
    "# Are you more likely to get a job as a developer if you have a master's degree?\n",
    "edlevel_job_counts = df.loc[df['EdLevel'] == \"Master’s degree (MA, MS, M.Eng., MBA, etc.)\", 'Employment'].value_counts()\n",
    "\n",
    "if not edlevel_job_counts.empty:\n",
    "    plt.figure(figsize=(12, 6))\n",
    "    sns.barplot(data=edlevel_job_counts, x=edlevel_job_counts.index, y=edlevel_job_counts.values)\n",
    "    plt.title('Employment Status for Developers with a Master\\'s Degree')\n",
    "    plt.xlabel('Employment Status')\n",
    "    plt.ylabel('Count')\n",
    "    plt.xticks(rotation=45)\n",
    "    plt.show()\n",
    "else:\n",
    "    print(\"No data available for developers with a master's degree.\")\n",
    "\n"
   ]
  },
  {
   "cell_type": "code",
   "execution_count": null,
   "metadata": {},
   "outputs": [],
   "source": [
    "# Are you more likely to get a job as a developer if you have a master's degree?\n",
    "edlevel_job_counts = df.loc[df['EdLevel'] == \"Master’s degree (MA, MS, M.Eng., MBA, etc.)\", 'Employment'].value_counts()\n",
    "\n",
    "print(edlevel_job_counts)  # Print the DataFrame for debugging purposes\n",
    "\n",
    "if not edlevel_job_counts.empty:\n",
    "    plt.figure(figsize=(12, 6))\n",
    "    sns.barplot(data=edlevel_job_counts, x=edlevel_job_counts.index, y=edlevel_job_counts.values)\n",
    "    plt.title('Employment Status for Developers with a Master\\'s Degree')\n",
    "    plt.xlabel('Employment Status')\n",
    "    plt.ylabel('Count')\n",
    "    plt.xticks(rotation=45)\n",
    "    plt.show()\n",
    "else:\n",
    "    print(\"No data available for developers with a master's degree.\")\n"
   ]
  },
  {
   "cell_type": "code",
   "execution_count": null,
   "metadata": {},
   "outputs": [],
   "source": [
    "# Print unique values in the 'EdLevel' column\n",
    "print(df['EdLevel'].unique())\n",
    "\n",
    "# Are you more likely to get a job as a developer if you have a master's degree?\n",
    "edlevel_job_counts = df.loc[df['EdLevel'] == \"Master’s degree (MA, MS, M.Eng., MBA, etc.)\", 'Employment'].value_counts()\n",
    "\n",
    "print(edlevel_job_counts)  # Print the DataFrame for debugging purposes\n",
    "\n",
    "if not edlevel_job_counts.empty:\n",
    "    plt.figure(figsize=(12, 6))\n",
    "    sns.barplot(data=edlevel_job_counts, x=edlevel_job_counts.index, y=edlevel_job_counts.values)\n",
    "    plt.title('Employment Status for Developers with a Master\\'s Degree')\n",
    "    plt.xlabel('Employment Status')\n",
    "    plt.ylabel('Count')\n",
    "    plt.xticks(rotation=45)\n",
    "    plt.show()\n",
    "else:\n",
    "    print(\"No data available for developers with a master's degree.\")\n"
   ]
  },
  {
   "attachments": {},
   "cell_type": "markdown",
   "metadata": {},
   "source": [
    "We use the \"seaborn\" library to set the plot style to a white grid background. We also specify a color palette ('viridis') for the bars. Additionally, value labels are added to each bar using the \"plt.text()\" function to display the average salary on top of each bar. Adjust the font sizes, rotation, and other style parameters as desired to further customize the appearance of the graph."
   ]
  },
  {
   "cell_type": "code",
   "execution_count": null,
   "metadata": {},
   "outputs": [],
   "source": [
    "# Group the data by country and calculate the average salary\n",
    "avg_salary_by_country = df.groupby('Country')['Salary'].mean().reset_index()\n",
    "\n",
    "# Sort the data by average salary in descending order\n",
    "avg_salary_by_country = avg_salary_by_country.sort_values('Salary', ascending=False)\n",
    "\n",
    "# Select the top 12 countries with highest average salary\n",
    "top_12_countries = avg_salary_by_country.head(12)\n",
    "\n",
    "# Set up the plot style using Seaborn\n",
    "sns.set(style='whitegrid')\n",
    "\n",
    "# Create the bar plot\n",
    "plt.figure(figsize=(12, 9))\n",
    "sns.barplot(x='Country', y='Salary', data=top_12_countries, palette='viridis')\n",
    "plt.xlabel('Country', fontsize=12)\n",
    "plt.ylabel('Average Salary', fontsize=12)\n",
    "plt.title('Top 12 Countries by Average Salary', fontsize=14)\n",
    "plt.xticks(rotation=45, ha='right', fontsize=10)\n",
    "plt.yticks(fontsize=10)\n",
    "\n",
    "# Add data labels on top of each bar\n",
    "for i, v in enumerate(top_12_countries['Salary']):\n",
    "    plt.text(i, v, f\"${v:.2f}\", ha='center', va='bottom', fontsize=10)\n",
    "    \n",
    "    \n",
    "# Add a horizontal line at the average salary across all countries\n",
    "avg_salary_all_countries = df['Salary'].mean()\n",
    "plt.axhline(y=avg_salary_all_countries, color='red', linestyle='--', linewidth=1)\n",
    "\n",
    "\n",
    "\n",
    "plt.tight_layout()\n",
    "plt.show()\n"
   ]
  },
  {
   "attachments": {},
   "cell_type": "markdown",
   "metadata": {},
   "source": []
  },
  {
   "attachments": {},
   "cell_type": "markdown",
   "metadata": {},
   "source": [
    "The code to create a pie chart representing the distribution of remote work types, including \"NA,\" and with customizations for a visually appealing plot:"
   ]
  },
  {
   "cell_type": "code",
   "execution_count": null,
   "metadata": {},
   "outputs": [],
   "source": [
    "# Count the occurrences of each remote work type, including \"NA\"\n",
    "remote_work_counts = df['RemoteWork'].value_counts(dropna=False)\n",
    "\n",
    "# Create a pie chart\n",
    "plt.figure(figsize=(8, 8))\n",
    "colors = ['#5DADE2', '#58D68D', '#F4D03F', '#F39C12', '#CACFD2']  # Custom colors for each slice, including \"NA\"\n",
    "explode = (0.1, 0, 0, 0, 0)  # Explode the first slice (optional), including \"NA\"\n",
    "explode = explode[:len(remote_work_counts)]  # Truncate the explode tuple if it's longer than remote_work_counts\n",
    "patches, texts, autotexts = plt.pie(remote_work_counts, labels=remote_work_counts.index, autopct='%1.1f%%', startangle=90, # type: ignore\n",
    "                                    colors=colors, explode=explode, shadow=True, wedgeprops={'linewidth': 1, 'edgecolor': 'white'})\n",
    "\n",
    "# Add count labels to the pie chart\n",
    "for i, text in enumerate(autotexts):\n",
    "    count = remote_work_counts[i]\n",
    "    percentage = count / remote_work_counts.sum() * 100\n",
    "    text.set_text(f'{count} ({percentage:.1f}%)')\n",
    "\n",
    "# Customize the plot\n",
    "plt.title('Remote Work Distribution', fontsize=14, fontweight='bold')\n",
    "plt.axis('equal')\n",
    "\n",
    "plt.tight_layout()\n",
    "plt.show()\n"
   ]
  },
  {
   "attachments": {},
   "cell_type": "markdown",
   "metadata": {},
   "source": [
    "To analyze the relationship between coding experience (represented by the \"YearsCodePro\" column) and salary, you can create a bar chart showing the median salary for each level of coding experience.\n",
    "We calculate the median salary for each level of coding experience using the median() function instead of the mean(). Then, we create a bar chart showing the median salary for each level of coding experience."
   ]
  },
  {
   "cell_type": "code",
   "execution_count": null,
   "metadata": {},
   "outputs": [],
   "source": [
    "# Group the data by the years of professional coding experience and calculate the median salary\n",
    "median_salary_by_experience = df.groupby('YearsCodePro')['Salary'].median().reset_index()\n",
    "\n",
    "# Sort the data by years of professional coding experience\n",
    "median_salary_by_experience = median_salary_by_experience.sort_values('YearsCodePro')\n",
    "\n",
    "# Set up the plot style using Seaborn and a custom color palette\n",
    "plt.figure(figsize=(18, 6))\n",
    "sns.set(style='whitegrid')\n",
    "colors = sns.color_palette('Set2', len(median_salary_by_experience))\n",
    "sns.barplot(x='YearsCodePro', y='Salary', data=median_salary_by_experience, palette=colors)\n",
    "\n",
    "# Customize the plot\n",
    "plt.xlabel('Years of Professional Coding Experience', fontsize=12, labelpad=10)\n",
    "plt.ylabel('Median Salary', fontsize=12)\n",
    "plt.title('Median Salary by Coding Experience', fontsize=14)\n",
    "\n",
    "plt.xticks(rotation=0, ha='right', fontsize=10)\n",
    "plt.yticks(fontsize=10)\n",
    "\n",
    "# Remove decimal from x-axis labels\n",
    "plt.xticks(range(len(median_salary_by_experience)), median_salary_by_experience['YearsCodePro'].astype(int))\n",
    "\n",
    "# Adjust the position of the x-axis ticks\n",
    "plt.subplots_adjust(left=0.5)\n",
    "\n",
    "plt.tight_layout()\n",
    "plt.show()\n"
   ]
  },
  {
   "attachments": {},
   "cell_type": "markdown",
   "metadata": {},
   "source": [
    "This code will generate a bar chart showing the distribution of different learning methods, with the count labels added to each bar. The most popular method will be indicated, and it will also be printed as output."
   ]
  },
  {
   "cell_type": "code",
   "execution_count": null,
   "metadata": {},
   "outputs": [],
   "source": [
    "# Count the occurrences of each method of learning to code\n",
    "learning_methods_counts = df['LearnCode'].value_counts()\n",
    "\n",
    "# Get the most popular method\n",
    "most_popular_method = learning_methods_counts.idxmax()\n",
    "\n",
    "# Create a bar chart to visualize the distribution of learning methods\n",
    "plt.figure(figsize=(10, 6))\n",
    "learning_methods_counts.plot(kind='bar', color='blue')\n",
    "\n",
    "# Customize the plot\n",
    "plt.xlabel('Learning Method', fontsize=12)\n",
    "plt.ylabel('Count', fontsize=12)\n",
    "plt.title('Most Popular Method of Learning to Code', fontsize=14)\n",
    "\n",
    "plt.xticks(rotation=45, ha='right', fontsize=10)\n",
    "\n",
    "# Add the count labels to the bars\n",
    "for i, count in enumerate(learning_methods_counts):\n",
    "    plt.text(i, count, str(count), ha='center', va='bottom')\n",
    "\n",
    "# Adjust the margins to provide more space\n",
    "plt.subplots_adjust(left=0.1, right=0.9, top=0.9, bottom=0.3)\n",
    "\n",
    "plt.show()\n",
    "\n",
    "print(f\"The most popular method of learning to code is: {most_popular_method}\")\n"
   ]
  },
  {
   "cell_type": "code",
   "execution_count": null,
   "metadata": {},
   "outputs": [],
   "source": [
    "# Count the occurrences of each method of learning to code\n",
    "learning_methods_counts = df['LearnCode'].value_counts()\n",
    "\n",
    "# Select the top 12 methods\n",
    "top_12_methods = learning_methods_counts[:12]\n",
    "\n",
    "# Get the most popular method among the top 12\n",
    "most_popular_method = top_12_methods.idxmax()\n",
    "\n",
    "# Create a bar chart to visualize the distribution of the top 12 learning methods\n",
    "plt.figure(figsize=(10, 6))\n",
    "sns.barplot(x=top_12_methods.index, y=top_12_methods.values, palette='viridis')\n",
    "\n",
    "# Customize the plot\n",
    "plt.xlabel('Learning Method', fontsize=12)\n",
    "plt.ylabel('Count', fontsize=12)\n",
    "plt.title('Most Popular Method of Learning to Code (Top 12)', fontsize=14)\n",
    "\n",
    "plt.xticks(rotation=45, ha='right', fontsize=10)\n",
    "plt.yticks(fontsize=10)\n",
    "plt.grid(axis='y', linestyle='--')\n",
    "\n",
    "# Add the count labels to the bars\n",
    "for i, count in enumerate(top_12_methods):\n",
    "    plt.text(i, count, str(count), ha='center', va='bottom', fontsize=10)\n",
    "\n",
    "plt.show()\n"
   ]
  },
  {
   "attachments": {},
   "cell_type": "markdown",
   "metadata": {},
   "source": [
    "To analyze whether having a master's degree increases the likelihood of getting a job as a developer, you can compare the employment status of developers with and without a master's degree. Here's a step-by-step approach to perform the analysis:\n",
    "\n",
    "1. Filter the dataset to include only rows where the MainBranch indicates being a developer by profession.\n",
    "2. Create a new column HasMastersDegree that indicates whether the individual has a master's degree or not.\n",
    "3. Group the data by the HasMastersDegree column and calculate the count of each employment status category.\n",
    "4. Visualize the employment status distribution using a bar chart."
   ]
  },
  {
   "cell_type": "code",
   "execution_count": null,
   "metadata": {},
   "outputs": [],
   "source": [
    "# Filter the dataset to include only rows where MainBranch indicates being a developer by profession\n",
    "df_developers = df[df['MainBranch'] == 'I am a developer by profession'].copy()\n",
    "\n",
    "# Create a new column indicating whether the individual has a master's degree or not\n",
    "df_developers['HasMastersDegree'] = df_developers['EdLevel'].apply(\n",
    "    lambda x: 'Yes' if x == \"Master’s degree (M.A., M.S., M.Eng., MBA, etc.)\" else 'No')\n",
    "\n",
    "# Group the data by HasMastersDegree and calculate the count of each employment status category\n",
    "employment_counts = df_developers['Employment'].value_counts().reset_index()\n",
    "\n",
    "# Rename the columns for clarity\n",
    "employment_counts.columns = ['Employment Status', 'Count']\n",
    "\n",
    "# Sort the employment counts in descending order\n",
    "employment_counts = employment_counts.sort_values('Count', ascending=False)\n",
    "\n",
    "# Select only the top 12 employment status categories\n",
    "top_12_employment_counts = employment_counts.head(12)\n",
    "\n",
    "# Count developers without a master's degree\n",
    "developers_without_masters = df_developers[df_developers['HasMastersDegree'] == 'No']\n",
    "developers_without_masters_count = len(developers_without_masters)\n",
    "\n",
    "# Create a DataFrame for developers without a master's degree\n",
    "no_masters_df = pd.DataFrame({'Employment Status': ['No Master\\'s Degree'], 'Count': [developers_without_masters_count]})\n",
    "\n",
    "# Concatenate the top 12 employment counts DataFrame with the DataFrame for developers without a master's degree\n",
    "top_12_employment_counts = pd.concat([top_12_employment_counts, no_masters_df], ignore_index=True)\n",
    "\n",
    "# Create a bar chart to visualize the top 12 employment status distribution\n",
    "plt.figure(figsize=(10, 6))\n",
    "sns.barplot(x='Employment Status', y='Count', data=top_12_employment_counts, palette='viridis')\n",
    "\n",
    "# Customize the plot\n",
    "plt.xlabel('Employment Status', fontsize=12)\n",
    "plt.ylabel('Count', fontsize=12)\n",
    "plt.title('Top 12 Employment Status of Developers with and without a Master\\'s Degree', fontsize=14)\n",
    "\n",
    "plt.xticks(rotation=45, ha='right', fontsize=10)\n",
    "plt.yticks(fontsize=10)\n",
    "plt.grid(axis='y', linestyle='--')\n",
    "\n",
    "# Add count labels to the bars\n",
    "for i, count in enumerate(top_12_employment_counts['Count']):\n",
    "    plt.text(i, count, str(count), ha='center', va='bottom', fontsize=10)\n",
    "\n",
    "plt.show()\n"
   ]
  },
  {
   "cell_type": "code",
   "execution_count": null,
   "metadata": {},
   "outputs": [],
   "source": [
    "# Concatenate the two language columns\n",
    "language_combined = df['LanguageHaveWorkedWith'].str.cat(df['LanguageWantToWorkWith'], sep=';')\n",
    "\n",
    "# Split the concatenated column by delimiter ';' and explode into multiple rows\n",
    "languages = language_combined.str.split(';').explode()\n",
    "\n",
    "# Count the frequency of each language\n",
    "language_counts = languages.value_counts().head(8)\n",
    "\n",
    "# Create a bar plot of the top 8 most popular languages\n",
    "plt.figure(figsize=(10, 6))\n",
    "sns.barplot(x=language_counts.index, y=language_counts.values, palette='viridis')\n",
    "\n",
    "plt.title('Top 8 Most Popular Languages')\n",
    "plt.xlabel('Language')\n",
    "plt.ylabel('Count')\n",
    "\n",
    "# Rotate x-axis labels for better readability\n",
    "plt.xticks(rotation=45, ha='right')\n",
    "\n",
    "# Add padding to x-axis title\n",
    "xlabel_obj = plt.xlabel('Languages')\n",
    "plt.gca().xaxis.set_label_coords(0.5, -0.25)\n",
    "xlabel_obj.set_fontweight('bold')\n",
    "plt.xlabel('Language', labelpad=10)\n",
    "\n",
    "plt.tight_layout()\n",
    "plt.show()"
   ]
  },
  {
   "attachments": {},
   "cell_type": "markdown",
   "metadata": {},
   "source": [
    "To determine the top 8 most used languages, we can use the column 'LanguageHaveWorkedWith' or 'LanguageWantToWorkWith'. To plot the top 8 most popular languages in a visually appealing manner, you can use a bar plot with customized formatting options.\n",
    "To add padding to the x-axis title and enhance the aesthetics of the plot, you can use the set_xlabel function from matplotlib to access the xlabel object and set various formatting options."
   ]
  },
  {
   "cell_type": "code",
   "execution_count": null,
   "metadata": {},
   "outputs": [],
   "source": [
    "# Concatenate the two language columns\n",
    "language_combined = df['LanguageHaveWorkedWith'].str.cat(df['LanguageWantToWorkWith'], sep=';')\n",
    "\n",
    "# Split the concatenated column by delimiter ';' and explode into multiple rows\n",
    "languages = language_combined.str.split(';').explode()\n",
    "\n",
    "# Count the frequency of each language\n",
    "language_counts = languages.value_counts().head(8)\n",
    "\n",
    "# Calculate the average count\n",
    "average_count = language_counts.mean()\n",
    "\n",
    "# Create a bar plot of the top 8 most popular languages\n",
    "plt.figure(figsize=(10, 6))\n",
    "sns.barplot(x=language_counts.index, y=language_counts.values, palette='viridis')\n",
    "\n",
    "# Add an average line\n",
    "plt.axhline(average_count, color='red', linestyle='--', label='Average')\n",
    "\n",
    "plt.title('Top 8 Most Popular Languages')\n",
    "plt.xlabel('Language')\n",
    "plt.ylabel('Count')\n",
    "\n",
    "# Rotate x-axis labels for better readability\n",
    "plt.xticks(rotation=45, ha='right')\n",
    "\n",
    "# Add padding to x-axis title\n",
    "xlabel_obj = plt.xlabel('Languages')\n",
    "plt.gca().xaxis.set_label_coords(0.5, -0.25)\n",
    "xlabel_obj.set_fontweight('bold')\n",
    "plt.xlabel('Language', labelpad=10)\n",
    "\n",
    "plt.legend()\n",
    "\n",
    "plt.tight_layout()\n",
    "plt.show()\n"
   ]
  }
 ],
 "metadata": {
  "kernelspec": {
   "display_name": "Python 3",
   "language": "python",
   "name": "python3"
  },
  "language_info": {
   "codemirror_mode": {
    "name": "ipython",
    "version": 3
   },
   "file_extension": ".py",
   "mimetype": "text/x-python",
   "name": "python",
   "nbconvert_exporter": "python",
   "pygments_lexer": "ipython3",
   "version": "3.11.4"
  },
  "orig_nbformat": 4
 },
 "nbformat": 4,
 "nbformat_minor": 2
}
